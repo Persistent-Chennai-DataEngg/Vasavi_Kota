{
  "nbformat": 4,
  "nbformat_minor": 0,
  "metadata": {
    "colab": {
      "provenance": []
    },
    "kernelspec": {
      "name": "python3",
      "display_name": "Python 3"
    },
    "language_info": {
      "name": "python"
    }
  },
  "cells": [
    {
      "cell_type": "code",
      "execution_count": null,
      "metadata": {
        "colab": {
          "base_uri": "https://localhost:8080/"
        },
        "id": "v52gybHF-iBa",
        "outputId": "4517b600-51b2-4cc9-ee30-3dcc0da56ca8"
      },
      "outputs": [
        {
          "output_type": "stream",
          "name": "stdout",
          "text": [
            "[1, 4, 9, 16, 25]\n"
          ]
        }
      ],
      "source": [
        "from pyspark.sql import SparkSession\n",
        "\n",
        "spark = SparkSession.builder.appName(\"DemoApp\").getOrCreate()\n",
        "rdd = spark.sparkContext.parallelize([1, 2, 3, 4, 5])\n",
        "s_rdd = rdd.map(lambda x: x * x)\n",
        "\n",
        "print(s_rdd.collect())"
      ]
    },
    {
      "cell_type": "code",
      "source": [
        "\n",
        "rdd=spark.sparkContext.parallelize([4,2,5,6,9])\n",
        "s_rdd=(rdd.filter(lambda x: x%3!=0).map(lambda x: x**2).sortBy(lambda x:x))\n",
        "print(s_rdd.collect())\n"
      ],
      "metadata": {
        "colab": {
          "base_uri": "https://localhost:8080/"
        },
        "id": "TTdtyZ7j_m5-",
        "outputId": "1bb1a8bf-4849-42fb-c148-c1154ccf7e4f"
      },
      "execution_count": null,
      "outputs": [
        {
          "output_type": "stream",
          "name": "stdout",
          "text": [
            "[4, 16, 25]\n"
          ]
        }
      ]
    },
    {
      "cell_type": "code",
      "source": [
        "rdd=spark.sparkContext.parallelize([\"company\",\"rev\",\"client\",\"pesis\"])\n",
        "s_rdd=(rdd.map(lambda word: len(word)).filter(lambda length: length>4).sortBy(lambda x: x, ascending=False))\n",
        "print(s_rdd.collect())\n",
        "\n"
      ],
      "metadata": {
        "colab": {
          "base_uri": "https://localhost:8080/"
        },
        "id": "IbAJ-PCcGDYP",
        "outputId": "b38818ac-1c9d-4836-f42c-7b76ecac583e"
      },
      "execution_count": null,
      "outputs": [
        {
          "output_type": "stream",
          "name": "stdout",
          "text": [
            "[7, 6, 5]\n"
          ]
        }
      ]
    },
    {
      "cell_type": "code",
      "source": [
        "rdd=spark.sparkContext.parallelize([(\"electronics\",100),(\"skincare\",50),(\"electronics\",40),(\"garments\",30),(\"jewelery\",20)])\n",
        "s_rdd=(rdd.reduceByKey(lambda x,y: x+y).sortBy(lambda x:x))\n",
        "print(s_rdd.collect())"
      ],
      "metadata": {
        "colab": {
          "base_uri": "https://localhost:8080/"
        },
        "id": "O36IUlWwUYmH",
        "outputId": "e84839d7-eec3-4322-fd44-667f2ea489d4"
      },
      "execution_count": null,
      "outputs": [
        {
          "output_type": "stream",
          "name": "stdout",
          "text": [
            "[('electronics', 140), ('garments', 30), ('jewelery', 20), ('skincare', 50)]\n"
          ]
        }
      ]
    },
    {
      "cell_type": "code",
      "source": [
        "from pyspark.sql import SparkSession\n",
        "from pyspark.sql.functions import sum\n",
        "\n",
        "spark = SparkSession.builder.appName(\"HogwartsAnalysis\").getOrCreate()\n",
        "\n",
        "data = [\n",
        "    (\"Gryffindor\", 1, 80, \"Harry Potter\"),\n",
        "    (\"Slytherin\", 1, 60, \"Draco Malfoy\"),\n",
        "    (\"Ravenclaw\", 1, 45, \"Luna Lovegood\"),\n",
        "    (\"Hufflepuff\", 1, 30, \"Cedric Diggory\"),\n",
        "    (\"Gryffindor\", 2, 90, \"Hermione Granger\"),\n",
        "    (\"Slytherin\", 2, 70, \"Pansy Parkinson\"),\n",
        "    (\"Ravenclaw\", 2, 55, \"Cho Chang\"),\n",
        "    (\"Hufflepuff\", 2, 65, \"Hannah Abbott\"),\n",
        "    (\"Gryffindor\", 3, 20, \"Ron Weasley\"),\n",
        "    (\"Slytherin\", 3, 85, \"Blaise Zabini\")\n",
        "]\n",
        "\n",
        "columns = [\"house\", \"year\", \"points\", \"student\"]\n",
        "df = spark.createDataFrame(data, columns)\n",
        "df.show()"
      ],
      "metadata": {
        "colab": {
          "base_uri": "https://localhost:8080/"
        },
        "id": "RD-3K6MZd5_g",
        "outputId": "d6ae4f4a-9f34-48c6-ae5a-6ca99b7289c0"
      },
      "execution_count": null,
      "outputs": [
        {
          "output_type": "stream",
          "name": "stdout",
          "text": [
            "+----------+----+------+----------------+\n",
            "|     house|year|points|         student|\n",
            "+----------+----+------+----------------+\n",
            "|Gryffindor|   1|    80|    Harry Potter|\n",
            "| Slytherin|   1|    60|    Draco Malfoy|\n",
            "| Ravenclaw|   1|    45|   Luna Lovegood|\n",
            "|Hufflepuff|   1|    30|  Cedric Diggory|\n",
            "|Gryffindor|   2|    90|Hermione Granger|\n",
            "| Slytherin|   2|    70| Pansy Parkinson|\n",
            "| Ravenclaw|   2|    55|       Cho Chang|\n",
            "|Hufflepuff|   2|    65|   Hannah Abbott|\n",
            "|Gryffindor|   3|    20|     Ron Weasley|\n",
            "| Slytherin|   3|    85|   Blaise Zabini|\n",
            "+----------+----+------+----------------+\n",
            "\n"
          ]
        }
      ]
    },
    {
      "cell_type": "code",
      "source": [
        "from pyspark.sql import SparkSession\n",
        "from pyspark.sql.functions import sum\n",
        "\n",
        "spark = SparkSession.builder.appName(\"HogwartsAnalysis\").getOrCreate()\n",
        "\n",
        "data = [\n",
        "    (\"Gryffindor\", 1, 80, \"Harry Potter\"),\n",
        "    (\"Slytherin\", 1, 60, \"Draco Malfoy\"),\n",
        "    (\"Ravenclaw\", 1, 45, \"Luna Lovegood\"),\n",
        "    (\"Hufflepuff\", 1, 30, \"Cedric Diggory\"),\n",
        "    (\"Gryffindor\", 2, 90, \"Hermione Granger\"),\n",
        "    (\"Slytherin\", 2, 70, \"Pansy Parkinson\"),\n",
        "    (\"Ravenclaw\", 2, 55, \"Cho Chang\"),\n",
        "    (\"Hufflepuff\", 2, 65, \"Hannah Abbott\"),\n",
        "    (\"Gryffindor\", 3, 20, \"Ron Weasley\"),\n",
        "    (\"Slytherin\", 3, 85, \"Blaise Zabini\")\n",
        "]\n",
        "\n",
        "columns = [\"house\", \"year\", \"points\", \"student\"]\n",
        "df = spark.createDataFrame(data, columns)\n",
        "res=(df.select(\"house\",\"year\" ,\"points\").filter(df.points>50).groupBy(\"house\",\"year\").agg(sum(\"points\").alias (\"total_points\")).orderBy(\"year\",\"total_points\" ,ascending=False))\n",
        "res.show()\n"
      ],
      "metadata": {
        "colab": {
          "base_uri": "https://localhost:8080/"
        },
        "id": "enae06X07IYM",
        "outputId": "ee1ab1c1-ebd4-48c7-b27b-2dc55aafe5dd"
      },
      "execution_count": null,
      "outputs": [
        {
          "output_type": "stream",
          "name": "stdout",
          "text": [
            "+----------+----+------------+\n",
            "|     house|year|total_points|\n",
            "+----------+----+------------+\n",
            "| Slytherin|   3|          85|\n",
            "|Gryffindor|   2|          90|\n",
            "| Slytherin|   2|          70|\n",
            "|Hufflepuff|   2|          65|\n",
            "| Ravenclaw|   2|          55|\n",
            "|Gryffindor|   1|          80|\n",
            "| Slytherin|   1|          60|\n",
            "+----------+----+------------+\n",
            "\n"
          ]
        }
      ]
    },
    {
      "cell_type": "code",
      "source": [
        "''' The Fellowship of the Ring is battling across Middle-earth, and Gandalf needs your\n",
        "help to analyze their combat performance. The data tracks each\n",
        "member’s battles, enemies defeated, and injuries sustained.\n",
        "To prepare for the next council in Rivendell, select the member’s name, race,\n",
        "and enemies defeated, filter for battles where more than 5 enemies were defeated,\n",
        " group by race to calculate the average enemies defeated, and order by the average\n",
        "  in descending order. This will help the council decide which races are most\n",
        "  effective in combat and plan their strategy against Sauron’s forces.\n",
        "'''\n",
        "data = [\n",
        "    (\"Aragorn\", \"Human\", 10, 2, \"Helms Deep\"),\n",
        "    (\"Legolas\", \"Elf\", 15, 0, \"Helms Deep\"),\n",
        "    (\"Gimli\", \"Dwarf\", 8, 3, \"Helms Deep\"),\n",
        "    (\"Frodo\", \"Hobbit\", 2, 1, \"Moria\"),\n",
        "    (\"Sam\", \"Hobbit\", 4, 2, \"Moria\"),\n",
        "    (\"Gandalf\", \"Wizard\", 12, 1, \"Moria\"),\n",
        "    (\"Boromir\", \"Human\", 7, 4, \"Amon Hen\"),\n",
        "    (\"Legolas\", \"Elf\", 20, 0, \"Amon Hen\"),\n",
        "    (\"Aragorn\", \"Human\", 9, 2, \"Amon Hen\")\n",
        "]\n",
        "\n",
        "columns = [\"name\", \"race\", \"enemies_defeated\", \"injuries\", \"battle\"]\n",
        "df = spark.createDataFrame(data, columns)\n",
        "df.show()"
      ],
      "metadata": {
        "id": "AW7kuITtAIXo",
        "colab": {
          "base_uri": "https://localhost:8080/"
        },
        "outputId": "56b77472-8203-4433-cf7f-7b8ee717f4f8"
      },
      "execution_count": null,
      "outputs": [
        {
          "output_type": "stream",
          "name": "stdout",
          "text": [
            "+-------+------+----------------+--------+----------+\n",
            "|   name|  race|enemies_defeated|injuries|    battle|\n",
            "+-------+------+----------------+--------+----------+\n",
            "|Aragorn| Human|              10|       2|Helms Deep|\n",
            "|Legolas|   Elf|              15|       0|Helms Deep|\n",
            "|  Gimli| Dwarf|               8|       3|Helms Deep|\n",
            "|  Frodo|Hobbit|               2|       1|     Moria|\n",
            "|    Sam|Hobbit|               4|       2|     Moria|\n",
            "|Gandalf|Wizard|              12|       1|     Moria|\n",
            "|Boromir| Human|               7|       4|  Amon Hen|\n",
            "|Legolas|   Elf|              20|       0|  Amon Hen|\n",
            "|Aragorn| Human|               9|       2|  Amon Hen|\n",
            "+-------+------+----------------+--------+----------+\n",
            "\n"
          ]
        }
      ]
    },
    {
      "cell_type": "code",
      "source": [
        "from pyspark.sql.functions import avg\n",
        "res=(\n",
        "    df.select(\"name\",\"race\",\"enemies_defeated\").filter(df.enemies_defeated>5)\n",
        "    .groupBy(\"race\")\n",
        "    .agg(avg(\"enemies_defeated\").alias(\"avg_enemies_defeated\"))\n",
        "    .orderBy(\"avg_enemies_defeated\",ascending=False)\n",
        "    )\n",
        "res.show()"
      ],
      "metadata": {
        "colab": {
          "base_uri": "https://localhost:8080/"
        },
        "id": "4qwNfQriPGKq",
        "outputId": "6c620fb6-332e-4bed-be57-7cc4c34b35b9"
      },
      "execution_count": null,
      "outputs": [
        {
          "output_type": "stream",
          "name": "stdout",
          "text": [
            "+------+--------------------+\n",
            "|  race|avg_enemies_defeated|\n",
            "+------+--------------------+\n",
            "|   Elf|                17.5|\n",
            "|Wizard|                12.0|\n",
            "| Human|   8.666666666666666|\n",
            "| Dwarf|                 8.0|\n",
            "+------+--------------------+\n",
            "\n"
          ]
        }
      ]
    }
  ]
}