{
 "cells": [
  {
   "cell_type": "code",
   "execution_count": null,
   "id": "8aaf542f-2123-463e-9073-9877e29f84bc",
   "metadata": {},
   "outputs": [],
   "source": [
    "\n",
    "\n",
    "from pyspark.sql import SparkSession\n",
    "from pyspark.sql.types import StructType, StringType, IntegerType, TimestampType\n",
    "from pyspark.sql.functions import col, window\n",
    "\n",
    "spark = SparkSession.builder.appName(\"StreamingApp\").getOrCreate()\n",
    "\n",
    "\n",
    "schema = StructType() \\\n",
    "    .add(\"id\", IntegerType(),True),\n",
    "    .add(\"name\", StringType(),True),\n",
    "    .add(\"age\", IntegerType(),True),\n",
    "    .add(\"location\", StringType(),True),\n",
    "    .add(\"event_time\", TimestampType(),True)\n",
    "\n",
    "df = spark.readStream.schema(schema).option(\"header\", \"true\").csv(\"./class\")\n",
    "#Windowing\n",
    "df_watermark = df.withWatermark(\"event_time\", \"1 minute\")\n",
    "event_count = df_watermark.groupBy(window(col(\"event_time\"),\"1 minute\"), col(\"location\")).count() #10:00 - 10:01, 10:01 - 10:02 / 10:00 - 10:10, 10:05 - 10:15, 10:10 - 10:20\n",
    "event_count_flattened = event_count.select(\n",
    "    col(\"window.start\").alias(\"window_start\"),\n",
    "    col(\"window.end\").alias(\"window_end\"),\n",
    "    col(\"location\"),\n",
    "    col(\"count\")\n",
    ")\n",
    "query = event_count_flattened.writeStream.format(\"csv\").option(\"path\",\"./output\").option(\"checkpointLocation\",\"./windowcheckpoint\").start()\n"
   ]
  },
  {
   "cell_type": "code",
   "execution_count": 1,
   "id": "d9bf061a-4200-44ac-b59b-9e75b335e3b4",
   "metadata": {},
   "outputs": [
    {
     "name": "stdout",
     "output_type": "stream",
     "text": [
      "HADOOP_HOME = C:\\Hadoop\n"
     ]
    }
   ],
   "source": [
    "import os\n",
    "print(\"HADOOP_HOME =\", os.environ.get(\"HADOOP_HOME\"))\n"
   ]
  },
  {
   "cell_type": "code",
   "execution_count": null,
   "id": "4c12ec31-b8ee-498c-a77b-e8e3919ed38c",
   "metadata": {},
   "outputs": [],
   "source": []
  }
 ],
 "metadata": {
  "kernelspec": {
   "display_name": "Python 3 (ipykernel)",
   "language": "python",
   "name": "python3"
  },
  "language_info": {
   "codemirror_mode": {
    "name": "ipython",
    "version": 3
   },
   "file_extension": ".py",
   "mimetype": "text/x-python",
   "name": "python",
   "nbconvert_exporter": "python",
   "pygments_lexer": "ipython3",
   "version": "3.10.0"
  }
 },
 "nbformat": 4,
 "nbformat_minor": 5
}
